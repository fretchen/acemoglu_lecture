{
 "cells": [
  {
   "cell_type": "markdown",
   "metadata": {},
   "source": [
    "# Probabilistic voting\n",
    "\n",
    "The previous voting models really only found applications if we could use the median voter theorem in increasingly broad conditions. In general they all avoided the cycling condition that we visualized directly in the discussion Concordet's paradox.\n",
    "\n",
    "where based on a static models. Let us now move beyond this situation. For concreteness we will work with a society that contains three major groups R, M and P (the rich, the poor and the middle class)."
   ]
  },
  {
   "cell_type": "markdown",
   "metadata": {},
   "source": [
    "## A simple model\n",
    "\n",
    "- We will model this with a society $G$ which has distinct groups $g$ and each of the groups has a continuum of voters, which have similiar characteristics and preferences. We note the share of voters in each group $\\lambda_g$ such that $\\sum_g \\lambda_g = 1$\n",
    "- We only have two parties $A$ and $B$.\n",
    "- We call $\\pi^g_P$ the fraction of voters in the group $g$ that vote for the party $P$.\n",
    "\n",
    "We can then directly calculate the expected voter share to be:\n",
    "$$\n",
    "    \\pi_P = \\sum_g \\lambda_g \\pi_P^g\n",
    "$$\n",
    "\n",
    "We will now allow for a distribution of opinions within each group and say:\n",
    "\n",
    "$$\n",
    " \\tilde{U}_i^g(p, P) = U^g(P) + \\tilde{\\sigma}_i^g(P)\n",
    "$$\n",
    "\n",
    "So the benefit of voting for an individual contains the policy related contribution $U^g(P)$ and non-policy related benefits that the individual will receive if party P comes to power. Those benefits are modelled through a probability density function $h^g$ . The easiest way to think about them is ideological. \n",
    "\n",
    "Let us now assume that there is no idealogical component to voting for party $A$ ($\\tilde{\\sigma}_i^g(A) = 0$), so that\n",
    "\n",
    "$$\n",
    "\n",
    "     \\tilde{U}_i^g(p, A) = U^g(A) \\text{ and }\\tilde{U}_i^g(p, B) = U^g(B) + \\tilde{\\sigma}_i^g\n",
    "$$\n",
    "\n",
    "With this notation we can now model the probability of voting for party A $v_i^g(p_A, p_B)$ to be:\n",
    "\n",
    "- $v_i^g(p_A, p_B) = 1$  if $U^g(p_A) -U^g(p_B) > \\tilde{\\sigma}_i^g$, i.e. the utility of program A over B outways any idealogical arguments.\n",
    "- $v_i^g(p_A, p_B) = 0$  if $U^g(p_A) -U^g(p_B) < \\tilde{\\sigma}_i^g$, i.e. the utility of program A over B is less than the idealogical benefits.\n",
    "- $v_i^g(p_A, p_B) = 1/2$  if $U^g(p_A) -U^g(p_B) = \\tilde{\\sigma}_i^g$.\n",
    "\n",
    "We can then show that the policy choice consists in maximizing the equation:\n",
    "\n",
    "$$\n",
    "\\sum_g h_g(0) \\lambda_g U_g(p)\n",
    "$$\n",
    "\n",
    "````{prf:theorem} Probabilistic Voting Theorem)\n",
    "Consider a set of policy choices $\\mathcal{P}$, let $p \\in \\mathcal{P} \\in \\mathbb{R}^k$ be a policy vector and let preferences be given by the normalized distribution above, with the distribution function of $\\tilda{\\sigma}_i^g$ as $H_g$. Then, if a pure strategy symmetric equilibrium exists, equilibrium policy is given by p∗ that maximizes $\\sum_g h_g(0) \\lambda_g U_g(p)$.\n",
    "````"
   ]
  },
  {
   "cell_type": "markdown",
   "metadata": {},
   "source": [
    "### Application: The power of the middle class\n",
    "\n",
    "We can now come back to the initial example of three groups. However, now we simply assume that the policy related utility function is the same for all groups. We will further assume that $p^g$ is the transfer of budget towards the group. The policy vector is then $p = (p_1, p_2, p_3)$, i.e. how much does each group get. This is normalized by the condition $\\sum_g \\lambda_g p_g =1$, i.e. we cannot spend what we do not have.\n",
    "\n",
    "We can then write that a voter prefers a party if:\n",
    "\n",
    "$$\n",
    "    U^g(p_A) > U^g(p_B) + \\tilde{\\sigma}_g^i + \\delta\n",
    "$$\n",
    " where the new parameter $\\delta$ describes how popular the candidate of party $B$ is. We do not know how much people like him so we say that it is a uniform distribution centered around zero with width $\\xi_g$. We will now assume that there is no idealogical contribution amongst groups and we draw $\\tilde{\\sigma}_g^i$ from a uniform distribution centered around zero with width $\\phi_g$. We now define the indifferent voter as\n",
    "\n",
    " $$\n",
    " \\sigma_g = U^g(p_A) - U^g(p_B) - \\delta\n",
    "$$ \n",
    "\n",
    "All voters with $\\tilde{\\sigma}_g^i < \\sigma_g$ prefer party A and we can write:\n",
    "\n",
    "$$\n",
    "\\pi_A = \\sum_g \\lambda_g \\phi_g\\left(\\sigma_g + \\frac{1}{2\\phi_g}\\right)\n",
    "$$\n",
    "\n",
    "Now the parties have to optimize under the uncertainty of $\\delta$\n",
    "\n",
    "$$\n",
    "    \\mathbb{P}_A = \\text{Prob}_{\\delta}\\left(\\pi_A > 1/2\\right) = \\frac{1}{2} + \\psi\\left[\\sum_g \\lambda_g \\phi_g\\left(U^g(p_A) - U^g(p_B)\\right)\\right]\n",
    "$$\n",
    "\n",
    "Now the argument goes that you will have to optimize more on groups with a high $\\phi$, which means that they can swinger further. This is the power of the swing voter."
   ]
  }
 ],
 "metadata": {
  "language_info": {
   "name": "python"
  }
 },
 "nbformat": 4,
 "nbformat_minor": 2
}
