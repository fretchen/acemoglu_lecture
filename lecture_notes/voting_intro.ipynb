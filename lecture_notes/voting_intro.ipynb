{
 "cells": [
  {
   "cell_type": "markdown",
   "metadata": {},
   "source": [
    "# Static Voting Models\n",
    "\n",
    "Throughout the chapter we will use the following notation:\n",
    "\n",
    "\n",
    "- We will consider an abstract economy consisting of a finite set of individuals $\\mathcal{H}$, with the number of individuals denoted by $H$.\n",
    "- $p$ denotes the vector of political choices (for example, institutions, policies or other collective choices), with the menu\n",
    "of policies denoted by $\\mathcal{P}$.\n",
    "- We note the *indirect utility function* defined over policy as $U (p; α_i)$. It sets the utility of policy $p$ for individual $i$.\n",
    "\n",
    "A political system will then aggregate the individual preferences $U(p, \\alpha_i)$ into social welfare function $U^S(p)$, which ranks the policies for the society.\n",
    "\n",
    "## Arrow's Theorem\n",
    "\n",
    "In this section, we will have a look into Arrow's theorem. For Arrow's theorem, we assume that the setof feasible policies, $\\mathcal{P}$, is finite and is a subset of the Euclidean space, that is, $\\mathcal{P}\\in \\mathbb{R}^{k}$.\n",
    "\n",
    "\n",
    "To visualize the theorem, we will use a simple example of voting. A team of 5 people is voting on 3 options. The option are actually just the dates for a christmas party. The team members are Alice, Bob, Charlie, David and Eve. The options are the 10th, 11th and 12th of December. Each team member has a preference for the dates. \n",
    "\n",
    "The team members really want this vote to be fair. So what is a fair vote? The team members agree that the following properties are important:\n",
    "\n",
    "1. *Unrestricted domain* - The voting system should be able to handle any possible preference profile.\n",
    "2. *Unanimity* - If all team members prefer the 10th over the 12th, then the group should prefer 10th over the 12th.\n",
    "3. *Independence of irrelevant alternatives* - The group's preference between two options should not depend on the preferences between other options.\n",
    "4. *Non-dictatorship* - There should not be a single team member that can always determine the group's preference. \n",
    "\n",
    "It is fairly remarkable that Arrow's theorem states that it is impossible to design a voting system that satisfies all these properties. In this notebook, we will visualize this theorem by looking at the preferences of the team members and the group's preference."
   ]
  },
  {
   "cell_type": "markdown",
   "metadata": {},
   "source": [
    "Let us cycle through the options and find a situation where the group's preference is cyclic."
   ]
  },
  {
   "cell_type": "code",
   "execution_count": null,
   "metadata": {},
   "outputs": [],
   "source": [
    "# let us generate all possible for ordering the three numbers\n",
    "\n",
    "pos_choices = []\n",
    "for i in range(1, 4):\n",
    "        for j in range(1, 4):\n",
    "            for k in range(1, 4):\n",
    "                if i != j and j != k and i != k:\n",
    "                    pos_choices.append([i, j, k])"
   ]
  },
  {
   "cell_type": "code",
   "execution_count": 18,
   "metadata": {},
   "outputs": [],
   "source": [
    "import itertools\n",
    "\n",
    "# Mögliche Optionen\n",
    "pos_choices = [\"10th\", \"11th\", \"12th\"]\n",
    "\n",
    "# Alle möglichen Präferenzordnungen der Optionen\n",
    "präferenzen = list(itertools.permutations(pos_choices))\n",
    "\n",
    "# Anzahl der Wähler\n",
    "anzahl_wähler = 5\n",
    "\n",
    "# Alle Kombinationen von Präferenzen für die Wähler\n",
    "kombinationen = list(itertools.product(präferenzen, repeat=anzahl_wähler))"
   ]
  },
  {
   "cell_type": "code",
   "execution_count": 20,
   "metadata": {},
   "outputs": [
    {
     "name": "stdout",
     "output_type": "stream",
     "text": [
      "137 (('10th', '11th', '12th'), ('10th', '11th', '12th'), ('11th', '12th', '10th'), ('12th', '10th', '11th'), ('12th', '11th', '10th'))\n"
     ]
    }
   ],
   "source": [
    "for ii, kombination in enumerate(kombinationen):\n",
    "    anzahl_10th_vor_11th = 0\n",
    "    anzahl_11th_vor_12th = 0\n",
    "    anzahl_12th_vor_10th = 0\n",
    "    for wahl in kombination:\n",
    "        if wahl.index(\"10th\") < wahl.index(\"11th\"):\n",
    "            anzahl_10th_vor_11th += 1\n",
    "        if wahl.index(\"11th\") < wahl.index(\"12th\"):\n",
    "            anzahl_11th_vor_12th += 1\n",
    "        if wahl.index(\"12th\") < wahl.index(\"10th\"):\n",
    "            anzahl_12th_vor_10th += 1\n",
    "    if anzahl_10th_vor_11th == anzahl_11th_vor_12th == anzahl_12th_vor_10th:\n",
    "        print(ii, kombination)\n",
    "        break"
   ]
  },
  {
   "cell_type": "markdown",
   "metadata": {},
   "source": [
    "So for three voters the problem arises for:\n",
    "\n",
    "- Alice: 10th > 11th > 12th\n",
    "- Bob: 11th > 12th > 10th\n",
    "- Charlie: 12th > 10th > 11th\n",
    "\n",
    "\n",
    "And for five voters the problem arises for:\n",
    "\n",
    "- Alice 10th > 11th > 12th\n",
    "- Bob 10th > 11th > 12th\n",
    "- Charlie 11th >12th > 10th\n",
    "- David 12th > 10th > 11th \n",
    "- Eve 12th > 11th >10th\n",
    "\n",
    "We then have again that the group prefers \n",
    "\n",
    "- the 10th > the 11th, \n",
    "- the 11th > the 12th\n",
    "- the 12th > the 10th\n",
    "\n",
    "And this  breaks the dependency of irrelevant alternatives. How we select the 10th over the 11th should simply not depend on the preference between the 11th and the 12th.\n",
    "\n",
    "So voting really has some shortcomings in the most general context. But in practice, progress is made by relaxing some of the properties. Voting can be useful in situations where we put more structure on preferences and on how individuals vote, which will essentially amount to either giving up the “unrestricted domain” assumption on choices or relaxing the independence from irrelevant alternatives."
   ]
  },
  {
   "cell_type": "markdown",
   "metadata": {},
   "source": [
    "## Concordet paradox\n",
    "\n",
    "The Condorcet paradox is a situation in which the collective preferences of a group of individuals is cyclic even though the preferences of the individuals are not. It is a nice visualization of Arrow's theorem. We have three individuals, Alice, Bob, and Charlie, and three options, A, B, and C. The preferences of the individuals are as follows:\n",
    "\n",
    "- Alice: A > B > C\n",
    "- Bob: B > C > A\n",
    "- Charlie: C > A > B\n",
    "\n",
    "We can now make the following rules, which together make up the “open agenda direct\n",
    "democracy” system.\n",
    "\n",
    "-  **A1: Direct democracy.** The citizens themselves make the policy choices via majoritarian voting.\n",
    "- **A2: Sincere voting.** In every vote, each citizen votes for the alternative that gives him the highest utility according to his policy preferences. \n",
    "- **A3: Open agenda.** Citizens vote over pairs of policy alternatives, such that the winning policy in one round is posed against a new alternative in the next round and the set of alternatives includes all feasible policies.\n",
    "\n",
    "We can now see that the group's preference is cyclic. The group prefers A over B, B over C, and C over A. There is no “equilibrium” of the voting process that\n",
    "selects a unique policy outcome.\n",
    "\n",
    "````{prf:definition}\n",
    "A Condorcet winner is a policy that beats any other feasible policy in a pairwise vote.\n",
    "````\n",
    "\n",
    "And the example above clearly does not have a Condorcet winner.\n"
   ]
  },
  {
   "cell_type": "markdown",
   "metadata": {},
   "source": [
    "## Single-peaked preferences and median voting\n",
    "\n",
    "In practice, we can often avoid the problems of Arrow's theorem by assuming that preferences are single-peaked. Single-peaked preferences are preferences that are ordered along a single dimension. For example, preferences over the date of the christmas party are single-peaked if the team members prefer the dates in the order of the 10th, 11th, and 12th.\n",
    "\n",
    "In mathematical terms, single-peaked preferences are assumed to be uni-dimensional. Additionally the satisfaction of the agent has one maximum only. So if we have a set of alternatives, the agent will prefer the alternative that is closest to the maximum. We can formalize this as follows:\n",
    "\n",
    "\n",
    "````{prf:definition} Single-peaked preferences\n",
    " Conside a finite set of policies $\\mathcal{P} \\in \\mathbb{R}$. We call $p_i \\in \\mathcal{P}$ the preferred choice of the individual $i$. Then, the policy preferences of citizen $i$ are **single peaked** if and only if:\n",
    "\n",
    "   For all $p'', p' \\in \\mathcal{P}$, with  $p'' < p' \\leq p_i$ or $p'' > p' \\geq p_i$ , we have $U (p''; p_i) < U(p'; p_i)$.\n",
    "````\n"
   ]
  },
  {
   "cell_type": "markdown",
   "metadata": {},
   "source": [
    "With the single-peaked preferences, we can define the median voter.\n",
    "\n",
    "````{prf:definition} The median voter\n",
    " We consider an odd number of individuals $H$ with a fixed preference $p_i$. Then the *median voter* is the person that has exactly $\\frac{H-1}{2}$ preferences to his left and to his right. The median voter is denoted by $m$ and the policy that maximizes the utility of the median voter is denoted by $p_m$.\n",
    "````\n",
    "\n",
    "We can then proof the median voter theorem.\n",
    "\n",
    "````{prf:theorem} Median voter theorem\n",
    "Suppose that $H$ is an odd number, direct democracy, sincere voting  and that all voters have single-peaked policy preferences over a given\n",
    "ordering of policy alternatives, $\\mathcal{P}$. Then, a Condorcet winner always exists and coincides with the median-ranked preference $p_m$. Moreover, pm is the unique equilibrium policy (stable point) under the open agenda majoritarian rule, that is, under A1-A3.\n",
    "````"
   ]
  },
  {
   "cell_type": "markdown",
   "metadata": {},
   "source": [
    "## Parties and Downsian competition\n",
    "\n",
    "Quite often we have parties that compete in elections. The parties have a policy platform, which is a set of policies that they will implement if they win the election. The parties will then compete for the votes of the citizens. Suppose that we have two parties A and B, both would like to come to power. Then we will call their programs the policy platforms $p_A$ and $p_B$. Now, both will try to maximize the probability of winning the election, which we can write as:\n",
    "\n",
    "$$\n",
    "    \\max_{p_A} \\mathbb{P} (p_A, p_B) \\text{ and } \\max_{p_B} (1-\\mathbb{P} (p_B, p_A))\n",
    "$$\n",
    "\n",
    "$\\mathbb{P}$ is the probability that the policy platform $p_A$ is preferred over $p_B$. *Suppose* now that there is a Condorcet winner, then the party that implements this policy will win the election, i.e. $\\mathbb{P}(p_A, p_B = p_m) = 0, P(p_A = p_m, p_B) = 1$. \n",
    "\n",
    "- **A4** We can now directly assume that if both parties implement the median policy,it is a equilibrium and we have $\\mathbb{P}(p_A = p_m, p_B = p_m) = 1/2$.\n",
    "\n",
    "\n",
    "````{prf:theorem} Median voter theorem\n",
    "Suppose that there are two parties that first announce a policy platform and commit to it and a set of voters $H$ that vote for one of the two parties. Assume that A4 holds and that all voters have single-peaked policy preferences over a given ordering of policy alternatives. Then, both parties will choose p_m as their policy platform.\n",
    "````"
   ]
  }
 ],
 "metadata": {
  "kernelspec": {
   "display_name": "acemoglu-lecture-WcaluVDL-py3.10",
   "language": "python",
   "name": "python3"
  },
  "language_info": {
   "codemirror_mode": {
    "name": "ipython",
    "version": 3
   },
   "file_extension": ".py",
   "mimetype": "text/x-python",
   "name": "python",
   "nbconvert_exporter": "python",
   "pygments_lexer": "ipython3",
   "version": "3.10.11"
  }
 },
 "nbformat": 4,
 "nbformat_minor": 2
}
