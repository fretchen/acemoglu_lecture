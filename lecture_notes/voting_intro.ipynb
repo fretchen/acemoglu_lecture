{
 "cells": [
  {
   "cell_type": "markdown",
   "metadata": {},
   "source": [
    "# Voting\n",
    "\n",
    "In this section, we will have a look into Arrow's theorem. To visualize the theorem, we will use a simple example of voting. A team of 5 people is voting on 3 options. The option are actually just the dates for a christmas party. The team members are Alice, Bob, Charlie, David and Eve. The options are the 10th, 11th and 12th of December. Each team member has a preference for the dates. \n",
    "\n",
    "The team members really want this vote to be fair. So what is a fair vote? The team members agree that the following properties are important:\n",
    "\n",
    "1. *Unrestricted domain* - The voting system should be able to handle any possible preference profile.\n",
    "2. *Unanimity* - If all team members prefer the 10th over the 12th, then the group should prefer 10th over the 12th.\n",
    "3. *Independence of irrelevant alternatives* - The group's preference between two options should not depend on the preferences between other options.\n",
    "4. *Non-dictatorship* - There should not be a single team member that can always determine the group's preference. \n",
    "\n",
    "It is fairly remarkable that Arrow's theorem states that it is impossible to design a voting system that satisfies all these properties. In this notebook, we will visualize this theorem by looking at the preferences of the team members and the group's preference."
   ]
  },
  {
   "cell_type": "markdown",
   "metadata": {},
   "source": [
    "Let us cycle through the options and find a situation where the group's preference is cyclic."
   ]
  },
  {
   "cell_type": "code",
   "execution_count": null,
   "metadata": {},
   "outputs": [],
   "source": [
    "# let us generate all possible for ordering the three numbers\n",
    "\n",
    "pos_choices = []\n",
    "for i in range(1, 4):\n",
    "        for j in range(1, 4):\n",
    "            for k in range(1, 4):\n",
    "                if i != j and j != k and i != k:\n",
    "                    pos_choices.append([i, j, k])"
   ]
  },
  {
   "cell_type": "code",
   "execution_count": 18,
   "metadata": {},
   "outputs": [],
   "source": [
    "import itertools\n",
    "\n",
    "# Mögliche Optionen\n",
    "pos_choices = [\"10th\", \"11th\", \"12th\"]\n",
    "\n",
    "# Alle möglichen Präferenzordnungen der Optionen\n",
    "präferenzen = list(itertools.permutations(pos_choices))\n",
    "\n",
    "# Anzahl der Wähler\n",
    "anzahl_wähler = 5\n",
    "\n",
    "# Alle Kombinationen von Präferenzen für die Wähler\n",
    "kombinationen = list(itertools.product(präferenzen, repeat=anzahl_wähler))"
   ]
  },
  {
   "cell_type": "code",
   "execution_count": 20,
   "metadata": {},
   "outputs": [
    {
     "name": "stdout",
     "output_type": "stream",
     "text": [
      "137 (('10th', '11th', '12th'), ('10th', '11th', '12th'), ('11th', '12th', '10th'), ('12th', '10th', '11th'), ('12th', '11th', '10th'))\n"
     ]
    }
   ],
   "source": [
    "for ii, kombination in enumerate(kombinationen):\n",
    "    anzahl_10th_vor_11th = 0\n",
    "    anzahl_11th_vor_12th = 0\n",
    "    anzahl_12th_vor_10th = 0\n",
    "    for wahl in kombination:\n",
    "        if wahl.index(\"10th\") < wahl.index(\"11th\"):\n",
    "            anzahl_10th_vor_11th += 1\n",
    "        if wahl.index(\"11th\") < wahl.index(\"12th\"):\n",
    "            anzahl_11th_vor_12th += 1\n",
    "        if wahl.index(\"12th\") < wahl.index(\"10th\"):\n",
    "            anzahl_12th_vor_10th += 1\n",
    "    if anzahl_10th_vor_11th == anzahl_11th_vor_12th == anzahl_12th_vor_10th:\n",
    "        print(ii, kombination)\n",
    "        break"
   ]
  },
  {
   "cell_type": "markdown",
   "metadata": {},
   "source": [
    "So for three voters the problem arises for:\n",
    "\n",
    "- Alice: 10th > 11th > 12th\n",
    "- Bob: 11th > 12th > 10th\n",
    "- Charlie: 12th > 10th > 11th\n",
    "\n",
    "\n",
    "And for five voters the problem arises for:\n",
    "\n",
    "- Alice 10th > 11th > 12th\n",
    "- Bob 10th > 11th > 12th\n",
    "- Charlie 11th >12th > 10th\n",
    "- David 12th > 10th > 11th \n",
    "- Eve 12th > 11th >10th\n",
    "\n",
    "We then have again that the group prefers \n",
    "\n",
    "- the 10th > the 11th, \n",
    "- the 11th > the 12th\n",
    "- the 12th > the 10th\n",
    "\n",
    "And this clearly breaky the dependency of irrelevant alternatives."
   ]
  }
 ],
 "metadata": {
  "kernelspec": {
   "display_name": "acemoglu-lecture-WcaluVDL-py3.10",
   "language": "python",
   "name": "python3"
  },
  "language_info": {
   "codemirror_mode": {
    "name": "ipython",
    "version": 3
   },
   "file_extension": ".py",
   "mimetype": "text/x-python",
   "name": "python",
   "nbconvert_exporter": "python",
   "pygments_lexer": "ipython3",
   "version": "3.10.11"
  }
 },
 "nbformat": 4,
 "nbformat_minor": 2
}
